{
 "cells": [
  {
   "cell_type": "markdown",
   "metadata": {},
   "source": [
    "## Importamos las librerias necesarias"
   ]
  },
  {
   "cell_type": "code",
   "execution_count": 55,
   "metadata": {},
   "outputs": [],
   "source": [
    "#Importamos pandas, numpy, re y las librerias para graficar\n",
    "\n",
    "import numpy as np\n",
    "import pandas as pd\n",
    "import re\n",
    "import matplotlib.pyplot as plt\n",
    "import plotly.plotly as py\n",
    "import plotly.graph_objs as go"
   ]
  },
  {
   "cell_type": "markdown",
   "metadata": {},
   "source": [
    "## Importamos el archivo para cargarlo en un dataframe"
   ]
  },
  {
   "cell_type": "code",
   "execution_count": 56,
   "metadata": {},
   "outputs": [],
   "source": [
    "#Guardamos el path del archivo en una variable para despues cargarlo en un df\n",
    "\n",
    "file = 'C:/Users/Ramiro/Desktop/Digital House/Desafios/properatti.csv'\n",
    "\n",
    "# Creamos un DataFrame con la info del csv\n",
    "df = pd.read_csv(file)"
   ]
  },
  {
   "cell_type": "markdown",
   "metadata": {},
   "source": [
    "## Vemos las caracteristicas principales del df"
   ]
  },
  {
   "cell_type": "code",
   "execution_count": 57,
   "metadata": {},
   "outputs": [
    {
     "data": {
      "text/html": [
       "<div>\n",
       "<style scoped>\n",
       "    .dataframe tbody tr th:only-of-type {\n",
       "        vertical-align: middle;\n",
       "    }\n",
       "\n",
       "    .dataframe tbody tr th {\n",
       "        vertical-align: top;\n",
       "    }\n",
       "\n",
       "    .dataframe thead th {\n",
       "        text-align: right;\n",
       "    }\n",
       "</style>\n",
       "<table border=\"1\" class=\"dataframe\">\n",
       "  <thead>\n",
       "    <tr style=\"text-align: right;\">\n",
       "      <th></th>\n",
       "      <th>Unnamed: 0</th>\n",
       "      <th>operation</th>\n",
       "      <th>property_type</th>\n",
       "      <th>place_name</th>\n",
       "      <th>place_with_parent_names</th>\n",
       "      <th>country_name</th>\n",
       "      <th>state_name</th>\n",
       "      <th>geonames_id</th>\n",
       "      <th>lat-lon</th>\n",
       "      <th>lat</th>\n",
       "      <th>...</th>\n",
       "      <th>surface_covered_in_m2</th>\n",
       "      <th>price_usd_per_m2</th>\n",
       "      <th>price_per_m2</th>\n",
       "      <th>floor</th>\n",
       "      <th>rooms</th>\n",
       "      <th>expenses</th>\n",
       "      <th>properati_url</th>\n",
       "      <th>description</th>\n",
       "      <th>title</th>\n",
       "      <th>image_thumbnail</th>\n",
       "    </tr>\n",
       "  </thead>\n",
       "  <tbody>\n",
       "    <tr>\n",
       "      <th>0</th>\n",
       "      <td>0</td>\n",
       "      <td>sell</td>\n",
       "      <td>PH</td>\n",
       "      <td>Mataderos</td>\n",
       "      <td>|Argentina|Capital Federal|Mataderos|</td>\n",
       "      <td>Argentina</td>\n",
       "      <td>Capital Federal</td>\n",
       "      <td>3430787.0</td>\n",
       "      <td>-34.6618237,-58.5088387</td>\n",
       "      <td>-34.661824</td>\n",
       "      <td>...</td>\n",
       "      <td>40.0</td>\n",
       "      <td>1127.272727</td>\n",
       "      <td>1550.000000</td>\n",
       "      <td>NaN</td>\n",
       "      <td>NaN</td>\n",
       "      <td>NaN</td>\n",
       "      <td>http://www.properati.com.ar/15bo8_venta_ph_mat...</td>\n",
       "      <td>2 AMBIENTES TIPO CASA PLANTA BAJA POR PASILLO,...</td>\n",
       "      <td>2 AMB TIPO CASA SIN EXPENSAS EN PB</td>\n",
       "      <td>https://thumbs4.properati.com/8/BluUYiHJLhgIIK...</td>\n",
       "    </tr>\n",
       "    <tr>\n",
       "      <th>1</th>\n",
       "      <td>1</td>\n",
       "      <td>sell</td>\n",
       "      <td>apartment</td>\n",
       "      <td>La Plata</td>\n",
       "      <td>|Argentina|Bs.As. G.B.A. Zona Sur|La Plata|</td>\n",
       "      <td>Argentina</td>\n",
       "      <td>Bs.As. G.B.A. Zona Sur</td>\n",
       "      <td>3432039.0</td>\n",
       "      <td>-34.9038831,-57.9643295</td>\n",
       "      <td>-34.903883</td>\n",
       "      <td>...</td>\n",
       "      <td>NaN</td>\n",
       "      <td>NaN</td>\n",
       "      <td>NaN</td>\n",
       "      <td>NaN</td>\n",
       "      <td>NaN</td>\n",
       "      <td>NaN</td>\n",
       "      <td>http://www.properati.com.ar/15bob_venta_depart...</td>\n",
       "      <td>Venta de departamento en décimo piso al frente...</td>\n",
       "      <td>VENTA Depto 2 dorm. a estrenar 7 e/ 36 y 37   ...</td>\n",
       "      <td>https://thumbs4.properati.com/7/ikpVBu2ztHA7jv...</td>\n",
       "    </tr>\n",
       "    <tr>\n",
       "      <th>2</th>\n",
       "      <td>2</td>\n",
       "      <td>sell</td>\n",
       "      <td>apartment</td>\n",
       "      <td>Mataderos</td>\n",
       "      <td>|Argentina|Capital Federal|Mataderos|</td>\n",
       "      <td>Argentina</td>\n",
       "      <td>Capital Federal</td>\n",
       "      <td>3430787.0</td>\n",
       "      <td>-34.6522615,-58.5229825</td>\n",
       "      <td>-34.652262</td>\n",
       "      <td>...</td>\n",
       "      <td>55.0</td>\n",
       "      <td>1309.090909</td>\n",
       "      <td>1309.090909</td>\n",
       "      <td>NaN</td>\n",
       "      <td>NaN</td>\n",
       "      <td>NaN</td>\n",
       "      <td>http://www.properati.com.ar/15bod_venta_depart...</td>\n",
       "      <td>2 AMBIENTES 3ER PISO LATERAL LIVING COMEDOR AM...</td>\n",
       "      <td>2 AMB 3ER PISO CON ASCENSOR APTO CREDITO</td>\n",
       "      <td>https://thumbs4.properati.com/5/SXKr34F_IwG3W_...</td>\n",
       "    </tr>\n",
       "    <tr>\n",
       "      <th>3</th>\n",
       "      <td>3</td>\n",
       "      <td>sell</td>\n",
       "      <td>PH</td>\n",
       "      <td>Liniers</td>\n",
       "      <td>|Argentina|Capital Federal|Liniers|</td>\n",
       "      <td>Argentina</td>\n",
       "      <td>Capital Federal</td>\n",
       "      <td>3431333.0</td>\n",
       "      <td>-34.6477969,-58.5164244</td>\n",
       "      <td>-34.647797</td>\n",
       "      <td>...</td>\n",
       "      <td>NaN</td>\n",
       "      <td>NaN</td>\n",
       "      <td>NaN</td>\n",
       "      <td>NaN</td>\n",
       "      <td>NaN</td>\n",
       "      <td>NaN</td>\n",
       "      <td>http://www.properati.com.ar/15boh_venta_ph_lin...</td>\n",
       "      <td>PH 3 ambientes con patio. Hay 3 deptos en lote...</td>\n",
       "      <td>PH 3 amb. cfte. reciclado</td>\n",
       "      <td>https://thumbs4.properati.com/3/DgIfX-85Mog5SP...</td>\n",
       "    </tr>\n",
       "    <tr>\n",
       "      <th>4</th>\n",
       "      <td>4</td>\n",
       "      <td>sell</td>\n",
       "      <td>apartment</td>\n",
       "      <td>Centro</td>\n",
       "      <td>|Argentina|Buenos Aires Costa Atlántica|Mar de...</td>\n",
       "      <td>Argentina</td>\n",
       "      <td>Buenos Aires Costa Atlántica</td>\n",
       "      <td>3435548.0</td>\n",
       "      <td>-38.0026256,-57.5494468</td>\n",
       "      <td>-38.002626</td>\n",
       "      <td>...</td>\n",
       "      <td>35.0</td>\n",
       "      <td>1828.571429</td>\n",
       "      <td>1828.571429</td>\n",
       "      <td>NaN</td>\n",
       "      <td>NaN</td>\n",
       "      <td>NaN</td>\n",
       "      <td>http://www.properati.com.ar/15bok_venta_depart...</td>\n",
       "      <td>DEPARTAMENTO CON FANTÁSTICA ILUMINACIÓN NATURA...</td>\n",
       "      <td>DEPTO 2 AMB AL CONTRAFRENTE ZONA CENTRO/PLAZA ...</td>\n",
       "      <td>https://thumbs4.properati.com/5/xrRqlNcSI_vs-f...</td>\n",
       "    </tr>\n",
       "  </tbody>\n",
       "</table>\n",
       "<p>5 rows × 26 columns</p>\n",
       "</div>"
      ],
      "text/plain": [
       "   Unnamed: 0 operation property_type place_name  \\\n",
       "0           0      sell            PH  Mataderos   \n",
       "1           1      sell     apartment   La Plata   \n",
       "2           2      sell     apartment  Mataderos   \n",
       "3           3      sell            PH    Liniers   \n",
       "4           4      sell     apartment     Centro   \n",
       "\n",
       "                             place_with_parent_names country_name  \\\n",
       "0              |Argentina|Capital Federal|Mataderos|    Argentina   \n",
       "1        |Argentina|Bs.As. G.B.A. Zona Sur|La Plata|    Argentina   \n",
       "2              |Argentina|Capital Federal|Mataderos|    Argentina   \n",
       "3                |Argentina|Capital Federal|Liniers|    Argentina   \n",
       "4  |Argentina|Buenos Aires Costa Atlántica|Mar de...    Argentina   \n",
       "\n",
       "                     state_name  geonames_id                  lat-lon  \\\n",
       "0               Capital Federal    3430787.0  -34.6618237,-58.5088387   \n",
       "1        Bs.As. G.B.A. Zona Sur    3432039.0  -34.9038831,-57.9643295   \n",
       "2               Capital Federal    3430787.0  -34.6522615,-58.5229825   \n",
       "3               Capital Federal    3431333.0  -34.6477969,-58.5164244   \n",
       "4  Buenos Aires Costa Atlántica    3435548.0  -38.0026256,-57.5494468   \n",
       "\n",
       "         lat                        ...                          \\\n",
       "0 -34.661824                        ...                           \n",
       "1 -34.903883                        ...                           \n",
       "2 -34.652262                        ...                           \n",
       "3 -34.647797                        ...                           \n",
       "4 -38.002626                        ...                           \n",
       "\n",
       "   surface_covered_in_m2  price_usd_per_m2 price_per_m2  floor  rooms  \\\n",
       "0                   40.0       1127.272727  1550.000000    NaN    NaN   \n",
       "1                    NaN               NaN          NaN    NaN    NaN   \n",
       "2                   55.0       1309.090909  1309.090909    NaN    NaN   \n",
       "3                    NaN               NaN          NaN    NaN    NaN   \n",
       "4                   35.0       1828.571429  1828.571429    NaN    NaN   \n",
       "\n",
       "   expenses                                      properati_url  \\\n",
       "0       NaN  http://www.properati.com.ar/15bo8_venta_ph_mat...   \n",
       "1       NaN  http://www.properati.com.ar/15bob_venta_depart...   \n",
       "2       NaN  http://www.properati.com.ar/15bod_venta_depart...   \n",
       "3       NaN  http://www.properati.com.ar/15boh_venta_ph_lin...   \n",
       "4       NaN  http://www.properati.com.ar/15bok_venta_depart...   \n",
       "\n",
       "                                         description  \\\n",
       "0  2 AMBIENTES TIPO CASA PLANTA BAJA POR PASILLO,...   \n",
       "1  Venta de departamento en décimo piso al frente...   \n",
       "2  2 AMBIENTES 3ER PISO LATERAL LIVING COMEDOR AM...   \n",
       "3  PH 3 ambientes con patio. Hay 3 deptos en lote...   \n",
       "4  DEPARTAMENTO CON FANTÁSTICA ILUMINACIÓN NATURA...   \n",
       "\n",
       "                                               title  \\\n",
       "0                 2 AMB TIPO CASA SIN EXPENSAS EN PB   \n",
       "1  VENTA Depto 2 dorm. a estrenar 7 e/ 36 y 37   ...   \n",
       "2           2 AMB 3ER PISO CON ASCENSOR APTO CREDITO   \n",
       "3                       PH 3 amb. cfte. reciclado      \n",
       "4  DEPTO 2 AMB AL CONTRAFRENTE ZONA CENTRO/PLAZA ...   \n",
       "\n",
       "                                     image_thumbnail  \n",
       "0  https://thumbs4.properati.com/8/BluUYiHJLhgIIK...  \n",
       "1  https://thumbs4.properati.com/7/ikpVBu2ztHA7jv...  \n",
       "2  https://thumbs4.properati.com/5/SXKr34F_IwG3W_...  \n",
       "3  https://thumbs4.properati.com/3/DgIfX-85Mog5SP...  \n",
       "4  https://thumbs4.properati.com/5/xrRqlNcSI_vs-f...  \n",
       "\n",
       "[5 rows x 26 columns]"
      ]
     },
     "execution_count": 57,
     "metadata": {},
     "output_type": "execute_result"
    }
   ],
   "source": [
    "# Veamos la forma del df\n",
    "df.head()"
   ]
  },
  {
   "cell_type": "code",
   "execution_count": 58,
   "metadata": {
    "scrolled": false
   },
   "outputs": [
    {
     "name": "stdout",
     "output_type": "stream",
     "text": [
      "<class 'pandas.core.frame.DataFrame'>\n",
      "RangeIndex: 121220 entries, 0 to 121219\n",
      "Data columns (total 26 columns):\n",
      "Unnamed: 0                    121220 non-null int64\n",
      "operation                     121220 non-null object\n",
      "property_type                 121220 non-null object\n",
      "place_name                    121197 non-null object\n",
      "place_with_parent_names       121220 non-null object\n",
      "country_name                  121220 non-null object\n",
      "state_name                    121220 non-null object\n",
      "geonames_id                   102503 non-null float64\n",
      "lat-lon                       69670 non-null object\n",
      "lat                           69670 non-null float64\n",
      "lon                           69670 non-null float64\n",
      "price                         100810 non-null float64\n",
      "currency                      100809 non-null object\n",
      "price_aprox_local_currency    100810 non-null float64\n",
      "price_aprox_usd               100810 non-null float64\n",
      "surface_total_in_m2           81892 non-null float64\n",
      "surface_covered_in_m2         101313 non-null float64\n",
      "price_usd_per_m2              68617 non-null float64\n",
      "price_per_m2                  87658 non-null float64\n",
      "floor                         7899 non-null float64\n",
      "rooms                         47390 non-null float64\n",
      "expenses                      14262 non-null float64\n",
      "properati_url                 121220 non-null object\n",
      "description                   121218 non-null object\n",
      "title                         121220 non-null object\n",
      "image_thumbnail               118108 non-null object\n",
      "dtypes: float64(13), int64(1), object(12)\n",
      "memory usage: 24.0+ MB\n"
     ]
    }
   ],
   "source": [
    "#Veamos la info del df\n",
    "df.info()"
   ]
  },
  {
   "cell_type": "markdown",
   "metadata": {},
   "source": [
    "## Renombramos las columnas para trabajar más comodamente\n",
    "\n",
    "Como el unico valor de la variable $Tipo Operacion$ es venta, podemos obviar ese columna. Al mismo tiempo, la variable de $expensas$ no nos aporta informacion relevante, por lo cual tambien decidimos eliminarla"
   ]
  },
  {
   "cell_type": "code",
   "execution_count": 59,
   "metadata": {},
   "outputs": [],
   "source": [
    "#Primero arreglamos las irregularidades en las columnas\n",
    "#Eliminamos las columnas que no aportan informacion descriptiva al df\n",
    "df = df.drop(['Unnamed: 0','operation','expenses','floor','image_thumbnail', 'properati_url'], axis=1)\n",
    "\n",
    "\n",
    "\n",
    "#Renombramos las columnas restantes \n",
    "\n",
    "df.rename(columns={ 'property_type': 'Tipo_Propiedad',\n",
    "                    'place_name': 'Barrio',\n",
    "                    'place_with_parent_names': 'Ubicacion_Completa',\n",
    "                    'country_name': 'Pais',\n",
    "                    'state_name': 'Provincia',\n",
    "                    'geonames_id': 'GeoNames_ID',\n",
    "                    'lat-lon': 'Latitud_Longitud',\n",
    "                    'lat': 'Latitud',\n",
    "                    'lon': 'Longitud',\n",
    "                    'price': 'Precio',\n",
    "                    'currency': 'Moneda',\n",
    "                    'price_aprox_local_currency': 'Precio_ARS',\n",
    "                    'price_aprox_usd': 'Precio_Dolares',\n",
    "                    'surface_total_in_m2': 'Metros_Totales',\n",
    "                    'surface_covered_in_m2': 'Metros_Cubiertos',\n",
    "                    'price_usd_per_m2': 'Precio_m2_Dls',\n",
    "                    'price_per_m2': 'Precio_m2',\n",
    "                    'rooms': 'Cantidad_Ambientes',\n",
    "                    'description': 'Descripcion',\n",
    "                    'title': 'Titulo'}, inplace=True)"
   ]
  },
  {
   "cell_type": "markdown",
   "metadata": {},
   "source": [
    "## Analicemos que tan completo se encuentra el dataset"
   ]
  },
  {
   "cell_type": "code",
   "execution_count": 60,
   "metadata": {},
   "outputs": [],
   "source": [
    "# Creamos una lista con los valores nulos y no nulos para graficar\n",
    "\n",
    "no_nulos = df.count().tolist()\n",
    "nulos = [121220-x for x in no_nulos]"
   ]
  },
  {
   "cell_type": "code",
   "execution_count": 61,
   "metadata": {},
   "outputs": [
    {
     "data": {
      "text/html": [
       "<iframe id=\"igraph\" scrolling=\"no\" style=\"border:none;\" seamless=\"seamless\" src=\"https://plot.ly/~raharari/6.embed\" height=\"525px\" width=\"100%\"></iframe>"
      ],
      "text/plain": [
       "<plotly.tools.PlotlyDisplay object>"
      ]
     },
     "execution_count": 61,
     "metadata": {},
     "output_type": "execute_result"
    }
   ],
   "source": [
    "#Mostramos el porcentaje de nulos y no nulos en cada columna\n",
    "trace1 = go.Bar(\n",
    "    x=['Tipo_Propiedad', 'Barrio', 'Ubicacion_Completa',\n",
    "       'Pais', 'Provincia', 'GeoNames_ID', 'Latitud_Longitud', 'Latitud',\n",
    "       'Longitud', 'Precio', 'Moneda', 'Precio_ARS', 'Precio_Dolares',\n",
    "       'Metros_Totales', 'Metros_Cubiertos', 'Precio_m2_Dls', 'Precio_m2',\n",
    "       'Pisos', 'Cantidad_Ambientes', 'Descripcion', 'Titulo'],\n",
    "    y=nulos,\n",
    "    name='Valores Nulos',\n",
    "    hoverinfo='text',\n",
    "    text=[('%: ' + str((x/121200)*100)) for x, y in zip(nulos, no_nulos)]\n",
    ")\n",
    "trace2 = go.Bar(\n",
    "    x=['Tipo_Propiedad', 'Barrio', 'Ubicacion_Completa',\n",
    "       'Pais', 'Provincia', 'GeoNames_ID', 'Latitud_Longitud', 'Latitud',\n",
    "       'Longitud', 'Precio', 'Moneda', 'Precio_ARS', 'Precio_Dolares',\n",
    "       'Metros_Totales', 'Metros_Cubiertos', 'Precio_m2_Dls', 'Precio_m2',\n",
    "       'Pisos', 'Cantidad_Ambientes', 'Descripcion', 'Titulo'],\n",
    "    y= no_nulos,\n",
    "    name='Valores No Nulos',\n",
    "    hoverinfo='text',\n",
    "    text=[('%: ' + str((y/121200)*100)) for x, y in zip(nulos, no_nulos)]   \n",
    ")\n",
    "\n",
    "data = [trace1, trace2]\n",
    "layout = go.Layout(\n",
    "    barmode='stack'\n",
    ")\n",
    "\n",
    "fig = go.Figure(data=data, layout=layout)\n",
    "fig['layout'].update(title='Porcentaje de Nulos por Variable')\n",
    "py.iplot(fig, filename='stacked-bar')"
   ]
  },
  {
   "cell_type": "markdown",
   "metadata": {},
   "source": [
    "## Vemos que hay varias columnas con valores vacios\n",
    "\n",
    "Notamos que casi el 20% de las observaciones no tienen precio.\n",
    "\n",
    "Por otro lado, vemos que, tambien alrededor del 20% de las observaciones no cuentan con el campo Superficie Cubierta en m2 y casi un 35% no cuenta con el campo Superficie Total en m2.\n",
    "\n",
    "En particular, nos va a interesar completar los campos de precio, cantidad de ambientes y superficie"
   ]
  },
  {
   "cell_type": "markdown",
   "metadata": {},
   "source": [
    "## Con el metodo describe podemos ver algunos estadisticos de cada columna\n",
    "Esto nos puede dar un insight de como completar los valores faltantes de las variables mas relevantes"
   ]
  },
  {
   "cell_type": "code",
   "execution_count": 62,
   "metadata": {},
   "outputs": [
    {
     "data": {
      "text/html": [
       "<div>\n",
       "<style scoped>\n",
       "    .dataframe tbody tr th:only-of-type {\n",
       "        vertical-align: middle;\n",
       "    }\n",
       "\n",
       "    .dataframe tbody tr th {\n",
       "        vertical-align: top;\n",
       "    }\n",
       "\n",
       "    .dataframe thead th {\n",
       "        text-align: right;\n",
       "    }\n",
       "</style>\n",
       "<table border=\"1\" class=\"dataframe\">\n",
       "  <thead>\n",
       "    <tr style=\"text-align: right;\">\n",
       "      <th></th>\n",
       "      <th>GeoNames_ID</th>\n",
       "      <th>Latitud</th>\n",
       "      <th>Longitud</th>\n",
       "      <th>Precio</th>\n",
       "      <th>Precio_ARS</th>\n",
       "      <th>Precio_Dolares</th>\n",
       "      <th>Metros_Totales</th>\n",
       "      <th>Metros_Cubiertos</th>\n",
       "      <th>Precio_m2_Dls</th>\n",
       "      <th>Precio_m2</th>\n",
       "      <th>Cantidad_Ambientes</th>\n",
       "    </tr>\n",
       "  </thead>\n",
       "  <tbody>\n",
       "    <tr>\n",
       "      <th>count</th>\n",
       "      <td>1.025030e+05</td>\n",
       "      <td>69670.000000</td>\n",
       "      <td>69670.000000</td>\n",
       "      <td>1.008100e+05</td>\n",
       "      <td>1.008100e+05</td>\n",
       "      <td>1.008100e+05</td>\n",
       "      <td>81892.000000</td>\n",
       "      <td>101313.000000</td>\n",
       "      <td>68617.000000</td>\n",
       "      <td>8.765800e+04</td>\n",
       "      <td>47390.000000</td>\n",
       "    </tr>\n",
       "    <tr>\n",
       "      <th>mean</th>\n",
       "      <td>3.574442e+06</td>\n",
       "      <td>-34.626210</td>\n",
       "      <td>-59.266290</td>\n",
       "      <td>4.685259e+05</td>\n",
       "      <td>4.229397e+06</td>\n",
       "      <td>2.397006e+05</td>\n",
       "      <td>233.795328</td>\n",
       "      <td>133.050181</td>\n",
       "      <td>2160.086916</td>\n",
       "      <td>6.912216e+03</td>\n",
       "      <td>3.080840</td>\n",
       "    </tr>\n",
       "    <tr>\n",
       "      <th>std</th>\n",
       "      <td>3.541306e+05</td>\n",
       "      <td>1.980936</td>\n",
       "      <td>2.299922</td>\n",
       "      <td>2.260101e+06</td>\n",
       "      <td>6.904714e+06</td>\n",
       "      <td>3.913239e+05</td>\n",
       "      <td>1782.222147</td>\n",
       "      <td>724.351479</td>\n",
       "      <td>2759.288621</td>\n",
       "      <td>2.837864e+04</td>\n",
       "      <td>1.860773</td>\n",
       "    </tr>\n",
       "    <tr>\n",
       "      <th>min</th>\n",
       "      <td>3.427208e+06</td>\n",
       "      <td>-54.823985</td>\n",
       "      <td>-75.678931</td>\n",
       "      <td>0.000000e+00</td>\n",
       "      <td>0.000000e+00</td>\n",
       "      <td>0.000000e+00</td>\n",
       "      <td>0.000000</td>\n",
       "      <td>0.000000</td>\n",
       "      <td>0.600000</td>\n",
       "      <td>1.510204e+00</td>\n",
       "      <td>1.000000</td>\n",
       "    </tr>\n",
       "    <tr>\n",
       "      <th>25%</th>\n",
       "      <td>3.430234e+06</td>\n",
       "      <td>-34.669065</td>\n",
       "      <td>-58.727040</td>\n",
       "      <td>1.100000e+05</td>\n",
       "      <td>1.583309e+06</td>\n",
       "      <td>8.973388e+04</td>\n",
       "      <td>50.000000</td>\n",
       "      <td>45.000000</td>\n",
       "      <td>1218.181818</td>\n",
       "      <td>1.550000e+03</td>\n",
       "      <td>2.000000</td>\n",
       "    </tr>\n",
       "    <tr>\n",
       "      <th>50%</th>\n",
       "      <td>3.433910e+06</td>\n",
       "      <td>-34.597985</td>\n",
       "      <td>-58.480128</td>\n",
       "      <td>1.850000e+05</td>\n",
       "      <td>2.558452e+06</td>\n",
       "      <td>1.450000e+05</td>\n",
       "      <td>84.000000</td>\n",
       "      <td>75.000000</td>\n",
       "      <td>1800.000000</td>\n",
       "      <td>2.213115e+03</td>\n",
       "      <td>3.000000</td>\n",
       "    </tr>\n",
       "    <tr>\n",
       "      <th>75%</th>\n",
       "      <td>3.836668e+06</td>\n",
       "      <td>-34.441299</td>\n",
       "      <td>-58.395908</td>\n",
       "      <td>4.200000e+05</td>\n",
       "      <td>4.675792e+06</td>\n",
       "      <td>2.650000e+05</td>\n",
       "      <td>200.000000</td>\n",
       "      <td>150.000000</td>\n",
       "      <td>2486.411765</td>\n",
       "      <td>3.355549e+03</td>\n",
       "      <td>4.000000</td>\n",
       "    </tr>\n",
       "    <tr>\n",
       "      <th>max</th>\n",
       "      <td>6.948895e+06</td>\n",
       "      <td>4.545843</td>\n",
       "      <td>-53.733330</td>\n",
       "      <td>6.500000e+08</td>\n",
       "      <td>8.212711e+08</td>\n",
       "      <td>4.654544e+07</td>\n",
       "      <td>200000.000000</td>\n",
       "      <td>187000.000000</td>\n",
       "      <td>206333.333333</td>\n",
       "      <td>4.000000e+06</td>\n",
       "      <td>32.000000</td>\n",
       "    </tr>\n",
       "  </tbody>\n",
       "</table>\n",
       "</div>"
      ],
      "text/plain": [
       "        GeoNames_ID       Latitud      Longitud        Precio    Precio_ARS  \\\n",
       "count  1.025030e+05  69670.000000  69670.000000  1.008100e+05  1.008100e+05   \n",
       "mean   3.574442e+06    -34.626210    -59.266290  4.685259e+05  4.229397e+06   \n",
       "std    3.541306e+05      1.980936      2.299922  2.260101e+06  6.904714e+06   \n",
       "min    3.427208e+06    -54.823985    -75.678931  0.000000e+00  0.000000e+00   \n",
       "25%    3.430234e+06    -34.669065    -58.727040  1.100000e+05  1.583309e+06   \n",
       "50%    3.433910e+06    -34.597985    -58.480128  1.850000e+05  2.558452e+06   \n",
       "75%    3.836668e+06    -34.441299    -58.395908  4.200000e+05  4.675792e+06   \n",
       "max    6.948895e+06      4.545843    -53.733330  6.500000e+08  8.212711e+08   \n",
       "\n",
       "       Precio_Dolares  Metros_Totales  Metros_Cubiertos  Precio_m2_Dls  \\\n",
       "count    1.008100e+05    81892.000000     101313.000000   68617.000000   \n",
       "mean     2.397006e+05      233.795328        133.050181    2160.086916   \n",
       "std      3.913239e+05     1782.222147        724.351479    2759.288621   \n",
       "min      0.000000e+00        0.000000          0.000000       0.600000   \n",
       "25%      8.973388e+04       50.000000         45.000000    1218.181818   \n",
       "50%      1.450000e+05       84.000000         75.000000    1800.000000   \n",
       "75%      2.650000e+05      200.000000        150.000000    2486.411765   \n",
       "max      4.654544e+07   200000.000000     187000.000000  206333.333333   \n",
       "\n",
       "          Precio_m2  Cantidad_Ambientes  \n",
       "count  8.765800e+04        47390.000000  \n",
       "mean   6.912216e+03            3.080840  \n",
       "std    2.837864e+04            1.860773  \n",
       "min    1.510204e+00            1.000000  \n",
       "25%    1.550000e+03            2.000000  \n",
       "50%    2.213115e+03            3.000000  \n",
       "75%    3.355549e+03            4.000000  \n",
       "max    4.000000e+06           32.000000  "
      ]
     },
     "execution_count": 62,
     "metadata": {},
     "output_type": "execute_result"
    }
   ],
   "source": [
    "df.describe()"
   ]
  },
  {
   "cell_type": "markdown",
   "metadata": {},
   "source": [
    "## Para empezar a limpiar el dataset vamos a evaluar las columnas\n",
    "\n",
    "Si hay outliers, debemos definir si eliminarlos, nulearlos o algun otro metodo de correcion.\n",
    "Por otro lado, vamos a intentar completar los valores faltantes, ya sea por medio de la descripcion u otro metodo (como una media condicional)"
   ]
  },
  {
   "cell_type": "markdown",
   "metadata": {},
   "source": [
    "## Empecemos por analizar el campo Cantidad de Ambientes\n",
    "\n",
    "Chequeemos que casos podriamos considerar como outliers"
   ]
  },
  {
   "cell_type": "code",
   "execution_count": 63,
   "metadata": {
    "scrolled": false
   },
   "outputs": [
    {
     "data": {
      "text/plain": [
       "712"
      ]
     },
     "execution_count": 63,
     "metadata": {},
     "output_type": "execute_result"
    }
   ],
   "source": [
    "#Consideramos que los valores que se alejan 3 desvios estandar de la muestra, podrian representar outliers, errores de carga,etc\n",
    "media = df['Cantidad_Ambientes'].mean()\n",
    "desvio = df['Cantidad_Ambientes'].std()\n",
    "\n",
    "len(df.loc[df['Cantidad_Ambientes']>(media +3*desvio),['Cantidad_Ambientes']])"
   ]
  },
  {
   "cell_type": "code",
   "execution_count": 64,
   "metadata": {},
   "outputs": [
    {
     "data": {
      "image/png": "[encoded data removed]",
      "text/plain": [
       "<Figure size 432x288 with 1 Axes>"
      ]
     },
     "metadata": {},
     "output_type": "display_data"
    }
   ],
   "source": [
    "# Veamoslo graficamente\n",
    "df['Cantidad_Ambientes'].plot(kind = 'box')\n",
    "plt.show()"
   ]
  },
  {
   "cell_type": "markdown",
   "metadata": {},
   "source": [
    "## Como vemos, muchos valores parecerian ser errores al momento de la carga.\n",
    "\n",
    "Si bien prodriamos eliminar esos datos por considerarlos \"outliers\", algunos de ellos corresponden a complejos hoteleros, o venta de varias unidades en un mismo edificio.\n",
    "\n",
    "Nos convendria crear una columna nueva indicando el tipo de propiedad (mas alla de casa/PH/dto)\n",
    "\n",
    "Para completar los valores nulos, vamos a usar nuestra funcion para intentar obtenerlo de la variable Descripcion\n"
   ]
  },
  {
   "cell_type": "markdown",
   "metadata": {},
   "source": [
    "## Como completamos los valores faltantes?\n",
    "\n",
    "Una buena idea seria buscar si el dato que no figura en la columna correspondiente, podemos encontrarlo en la columna de Titulo o Descripcion"
   ]
  },
  {
   "cell_type": "code",
   "execution_count": 65,
   "metadata": {},
   "outputs": [
    {
     "data": {
      "text/plain": [
       "True     73830\n",
       "False    47390\n",
       "Name: Cantidad_Ambientes, dtype: int64"
      ]
     },
     "execution_count": 65,
     "metadata": {},
     "output_type": "execute_result"
    }
   ],
   "source": [
    "#Chequeamos la cantidad de nulos\n",
    "df.Cantidad_Ambientes.isnull().value_counts()"
   ]
  },
  {
   "cell_type": "code",
   "execution_count": 66,
   "metadata": {
    "scrolled": true
   },
   "outputs": [
    {
     "data": {
      "text/plain": [
       "24721     Excelente propiedad con  muy buena ubicación u...\n",
       "59614     Corredor Responsable: Raul Hector Merlo - CMCP...\n",
       "19890     Departamento a la venta en complejo Los Naranj...\n",
       "40104     Corredor Responsable: Carlos Borra - CPCPI 490...\n",
       "89072     Berenice IIEdificio de departamentos en constr...\n",
       "69358     Manuel Ugarte 3200 | BelgranoModerno departame...\n",
       "68621     AVISO LEGAL: Las descripciones arquitectónicas...\n",
       "120394    Departamento 34m², Capital Federal, San Telmo,...\n",
       "22520     Departamento monoambiente con cocina y baño co...\n",
       "63462     CODIGO: 2558-352 ubicado en: RUTA NACIONAL 11 ...\n",
       "48694     Corredor Responsable: Uno Bienes Raices SRL - ...\n",
       "102891    Una Laguna de 3 hectáreas de agua cristalina q...\n",
       "32221     Excelente casa en lote interno - Imepcable est...\n",
       "22624     EXCELENTE CASA DESARROLLADA EN DOS PLANTASPB: ...\n",
       "42168     Excelente departamento 3 ambientes al frente e...\n",
       "Name: Descripcion, dtype: object"
      ]
     },
     "execution_count": 66,
     "metadata": {},
     "output_type": "execute_result"
    }
   ],
   "source": [
    "#Veamos primero como figuran los datos en un caso en particular\n",
    "df.Descripcion.sample(15)"
   ]
  },
  {
   "cell_type": "markdown",
   "metadata": {},
   "source": [
    "Vemos que hay una buena cantidad de informacion en la descripcion, por lo que vamos a definir una funcion para recorrer el texto y obtener un patron de texto deseado. Para que la funcion no arroje error, debemos asegurarnos que todas las observaciones sean del tipo string"
   ]
  },
  {
   "cell_type": "code",
   "execution_count": 67,
   "metadata": {},
   "outputs": [],
   "source": [
    "df['Descripcion'] = df['Descripcion'].fillna('NaN')"
   ]
  },
  {
   "cell_type": "markdown",
   "metadata": {},
   "source": [
    "Esta funcion nos va a servir para obtener la cantidad de ambientes y la superficie a partir de la descripción de la publicación. Para el precio u otra variable, vamos a tener que modificarla ligeramente"
   ]
  },
  {
   "cell_type": "code",
   "execution_count": 68,
   "metadata": {},
   "outputs": [],
   "source": [
    "##FUNCION PARSER\n",
    "\n",
    "#La funcion toma el primer grupo de captura y lo transforma a int, si no matchea, completa con un NaN\n",
    "\n",
    "#Defino una funcion que a partir de un patron, parsee un campo del df\n",
    "\n",
    "def parser(dataframe,columna, patron):\n",
    "    lista = []\n",
    "    largo = len(dataframe)\n",
    "    serie = dataframe[columna]\n",
    "    for x in range(largo):\n",
    "        string = serie.loc[x]\n",
    "        match = re.search(patron, string, flags = re.IGNORECASE)\n",
    "        \n",
    "        if match:\n",
    "            lista.append(int(match.group(1))) \n",
    "        else:\n",
    "            lista.append(np.NaN)\n",
    "    return lista"
   ]
  },
  {
   "cell_type": "markdown",
   "metadata": {},
   "source": [
    "Como vimos,en la mayoria de los casos, figura la cantidad de ambientes, seguido de un espacio, seguido de la palabra \"Ambientes\", \"Habitaciones\", \"Dormitorios\", etc. De esa manera podemos armar nuestro patron para la expresion regular-"
   ]
  },
  {
   "cell_type": "code",
   "execution_count": 69,
   "metadata": {},
   "outputs": [],
   "source": [
    "# Parseamos la descripcion buscando el patron\n",
    "\n",
    "patron = r'(\\d+)(\\s)(\\b(ambientes|ambiente|amb|cuarto|cuartos|habitacion|habitaciones|dormitorio|dormitorios|dorm|hab)\\b)'\n",
    "\n",
    "df['Amb_Desc'] = parser(df,'Descripcion', patron)"
   ]
  },
  {
   "cell_type": "markdown",
   "metadata": {},
   "source": [
    "## Chequeamos como quedó la nueva columna. "
   ]
  },
  {
   "cell_type": "code",
   "execution_count": 70,
   "metadata": {},
   "outputs": [
    {
     "data": {
      "text/plain": [
       "2.0        24878\n",
       "3.0        22683\n",
       "4.0         9570\n",
       "1.0         8758\n",
       "5.0         2365\n",
       "6.0          624\n",
       "7.0          242\n",
       "8.0           55\n",
       "9.0           37\n",
       "10.0          27\n",
       "11.0          18\n",
       "0.0           17\n",
       "23.0          13\n",
       "160.0         11\n",
       "20.0          10\n",
       "9502.0         9\n",
       "14.0           9\n",
       "12.0           8\n",
       "24.0           8\n",
       "60.0           7\n",
       "18.0           7\n",
       "50.0           6\n",
       "1500.0         5\n",
       "13.0           5\n",
       "70.0           4\n",
       "75.0           4\n",
       "600.0          4\n",
       "21.0           4\n",
       "140.0          3\n",
       "27.0           3\n",
       "           ...  \n",
       "13562.0        1\n",
       "20171.0        1\n",
       "13303.0        1\n",
       "281.0          1\n",
       "691.0          1\n",
       "173.0          1\n",
       "42.0           1\n",
       "693.0          1\n",
       "822.0          1\n",
       "113.0          1\n",
       "6003.0         1\n",
       "9152.0         1\n",
       "85.0           1\n",
       "312.0          1\n",
       "71.0           1\n",
       "442.0          1\n",
       "23001.0        1\n",
       "184.0          1\n",
       "40.0           1\n",
       "18472.0        1\n",
       "241.0          1\n",
       "13402.0        1\n",
       "9311.0         1\n",
       "172.0          1\n",
       "37341.0        1\n",
       "36.0           1\n",
       "562.0          1\n",
       "6731.0         1\n",
       "404.0          1\n",
       "28612.0        1\n",
       "Name: Amb_Desc, Length: 165, dtype: int64"
      ]
     },
     "execution_count": 70,
     "metadata": {},
     "output_type": "execute_result"
    }
   ],
   "source": [
    "df['Amb_Desc'].value_counts()"
   ]
  },
  {
   "cell_type": "markdown",
   "metadata": {},
   "source": [
    "## Reemplazamos los valores que obtuvimos para completar los nulos de la columna Cantidad_Ambientes\n",
    "\n",
    "Cabe destacar, que no vamos a pisar los valores extremos ya presentes en la columna original, ya que como mencionamos anteriormente, podria tratarse de desarrollos inmobiliarios, hoteles u otras propiedades similares"
   ]
  },
  {
   "cell_type": "code",
   "execution_count": 71,
   "metadata": {},
   "outputs": [],
   "source": [
    "#Reemplazamos los valores vacios de la columna original con la extraccion de la descripcion.\n",
    "#Asumimos que todos los valores mayores a 6 no corresponden al dato de queremos\n",
    "\n",
    "df['Cantidad_Ambientes'] = df['Cantidad_Ambientes'].fillna(df['Amb_Desc'][df['Amb_Desc'] < 7])"
   ]
  },
  {
   "cell_type": "code",
   "execution_count": 72,
   "metadata": {},
   "outputs": [
    {
     "data": {
      "text/plain": [
       "False    86078\n",
       "True     35142\n",
       "Name: Cantidad_Ambientes, dtype: int64"
      ]
     },
     "execution_count": 72,
     "metadata": {},
     "output_type": "execute_result"
    }
   ],
   "source": [
    "#Chequeamos como quedo la columna original\n",
    "df.Cantidad_Ambientes.isnull().value_counts()"
   ]
  },
  {
   "cell_type": "markdown",
   "metadata": {},
   "source": [
    "## Propiedad especial?\n",
    "Como vimos, hay ciertas palabras en la descipcion que podrian darnos a entender que la observación corresponde a una propiedad \"especial\".\n",
    "\n",
    "Vamos a crear una columna nueva en donde marcaremos con un 1 o 0 si es una propiedad especial o no."
   ]
  },
  {
   "cell_type": "code",
   "execution_count": 73,
   "metadata": {},
   "outputs": [],
   "source": [
    "# Parseamos en la descripcion la RegEx que necesito, y le apendamos a una lista\n",
    "\n",
    "patron = r'(\\b(hotel|desarrollo inmobiliario|hostel|complejo)\\b)'\n",
    "\n",
    "propiedad =[]\n",
    "\n",
    "for x in range(len(df)):\n",
    "        string = df.Descripcion[x]\n",
    "        match = re.search(patron, string, flags = re.IGNORECASE)\n",
    "        if match:\n",
    "            propiedad.append(1)\n",
    "        else:\n",
    "            propiedad.append(0)"
   ]
  },
  {
   "cell_type": "code",
   "execution_count": 74,
   "metadata": {},
   "outputs": [],
   "source": [
    "df['Propiedad_Especial_dummy'] = propiedad"
   ]
  },
  {
   "cell_type": "code",
   "execution_count": 75,
   "metadata": {},
   "outputs": [],
   "source": [
    "#Creamos la columna final solo con los casos que marcamos como Propiedad Especial y ademas tienen mas de 6 ambientes\n",
    "\n",
    "df['Propiedad_Especial'] = df.loc[(df['Cantidad_Ambientes']>=7) & (df['Propiedad_Especial_dummy'] == 1),'Propiedad_Especial_dummy']\n",
    "\n",
    "df['Propiedad_Especial'] = df['Propiedad_Especial'].fillna(0)"
   ]
  },
  {
   "cell_type": "code",
   "execution_count": 76,
   "metadata": {},
   "outputs": [],
   "source": [
    "# Dropeamos la columna auxiliar\n",
    "\n",
    "df = df.drop(['Propiedad_Especial_dummy'], axis = 1)"
   ]
  },
  {
   "cell_type": "markdown",
   "metadata": {},
   "source": [
    "## Analicemos las columnas de Superficie (Metros_Cubiertos y Metros_Totales)\n",
    "\n",
    "Empecemos viendo la distribucion de los valores y viendo si la columna contiene muchos outliers"
   ]
  },
  {
   "cell_type": "code",
   "execution_count": 77,
   "metadata": {},
   "outputs": [],
   "source": [
    "#         La diferencia entre el valor y la media         mayor o igual a 3 desvios estandar\n",
    "outliers_MetrosCub = df.loc[df['Metros_Cubiertos']-df['Metros_Cubiertos'].mean() >= (3*df['Metros_Cubiertos'].std()),'Metros_Cubiertos']\n",
    "\n",
    "outliers_MetrosTot = df.loc[df['Metros_Totales']-df['Metros_Totales'].mean() >= (3*df['Metros_Totales'].std()),'Metros_Totales']"
   ]
  },
  {
   "cell_type": "code",
   "execution_count": 78,
   "metadata": {},
   "outputs": [
    {
     "name": "stdout",
     "output_type": "stream",
     "text": [
      "163\n",
      "167\n"
     ]
    }
   ],
   "source": [
    "print(len(outliers_MetrosCub))\n",
    "\n",
    "print(len(outliers_MetrosTot))"
   ]
  },
  {
   "cell_type": "code",
   "execution_count": 79,
   "metadata": {},
   "outputs": [
    {
     "data": {
      "image/png": "[encoded data removed]",
      "text/plain": [
       "<Figure size 432x288 with 1 Axes>"
      ]
     },
     "metadata": {},
     "output_type": "display_data"
    }
   ],
   "source": [
    "#Veamoslo graficamente\n",
    "df[['Metros_Cubiertos','Metros_Totales']].plot(kind = 'box', logy = True)\n",
    "plt.show()"
   ]
  },
  {
   "cell_type": "markdown",
   "metadata": {},
   "source": [
    "## Vamos a completar esos casos con nulos, e intentar completarlos a traves de la descripcion"
   ]
  },
  {
   "cell_type": "code",
   "execution_count": 80,
   "metadata": {},
   "outputs": [],
   "source": [
    "df.loc[np.abs(df['Metros_Cubiertos']-df['Metros_Cubiertos'].mean()) >= (3*df['Metros_Cubiertos'].std()),'Metros_Cubiertos'] = np.nan\n",
    "df.loc[np.abs(df['Metros_Totales']-df['Metros_Totales'].mean()) >= (3*df['Metros_Totales'].std()),'Metros_Totales'] = np.nan"
   ]
  },
  {
   "cell_type": "markdown",
   "metadata": {},
   "source": [
    "Por otro lado, chequeemos los casos en donde la superficie cubierta es mayor que la superficie total, esto podria darnos indicios de erorres de ingreso de datos"
   ]
  },
  {
   "cell_type": "code",
   "execution_count": 81,
   "metadata": {},
   "outputs": [
    {
     "data": {
      "text/html": [
       "<div>\n",
       "<style scoped>\n",
       "    .dataframe tbody tr th:only-of-type {\n",
       "        vertical-align: middle;\n",
       "    }\n",
       "\n",
       "    .dataframe tbody tr th {\n",
       "        vertical-align: top;\n",
       "    }\n",
       "\n",
       "    .dataframe thead th {\n",
       "        text-align: right;\n",
       "    }\n",
       "</style>\n",
       "<table border=\"1\" class=\"dataframe\">\n",
       "  <thead>\n",
       "    <tr style=\"text-align: right;\">\n",
       "      <th></th>\n",
       "      <th>Metros_Totales</th>\n",
       "      <th>Metros_Cubiertos</th>\n",
       "    </tr>\n",
       "  </thead>\n",
       "  <tbody>\n",
       "    <tr>\n",
       "      <th>54576</th>\n",
       "      <td>110.0</td>\n",
       "      <td>130.0</td>\n",
       "    </tr>\n",
       "    <tr>\n",
       "      <th>84426</th>\n",
       "      <td>273.0</td>\n",
       "      <td>664.0</td>\n",
       "    </tr>\n",
       "    <tr>\n",
       "      <th>97419</th>\n",
       "      <td>38.0</td>\n",
       "      <td>58.0</td>\n",
       "    </tr>\n",
       "    <tr>\n",
       "      <th>8730</th>\n",
       "      <td>39.0</td>\n",
       "      <td>70.0</td>\n",
       "    </tr>\n",
       "    <tr>\n",
       "      <th>45865</th>\n",
       "      <td>104.0</td>\n",
       "      <td>143.0</td>\n",
       "    </tr>\n",
       "    <tr>\n",
       "      <th>107149</th>\n",
       "      <td>42.0</td>\n",
       "      <td>73.0</td>\n",
       "    </tr>\n",
       "    <tr>\n",
       "      <th>28215</th>\n",
       "      <td>42.0</td>\n",
       "      <td>50.0</td>\n",
       "    </tr>\n",
       "    <tr>\n",
       "      <th>13455</th>\n",
       "      <td>300.0</td>\n",
       "      <td>900.0</td>\n",
       "    </tr>\n",
       "    <tr>\n",
       "      <th>40454</th>\n",
       "      <td>50.0</td>\n",
       "      <td>90.0</td>\n",
       "    </tr>\n",
       "    <tr>\n",
       "      <th>113886</th>\n",
       "      <td>70.0</td>\n",
       "      <td>74.0</td>\n",
       "    </tr>\n",
       "    <tr>\n",
       "      <th>95190</th>\n",
       "      <td>116.0</td>\n",
       "      <td>150.0</td>\n",
       "    </tr>\n",
       "    <tr>\n",
       "      <th>4068</th>\n",
       "      <td>94.0</td>\n",
       "      <td>140.0</td>\n",
       "    </tr>\n",
       "    <tr>\n",
       "      <th>72836</th>\n",
       "      <td>260.0</td>\n",
       "      <td>270.0</td>\n",
       "    </tr>\n",
       "    <tr>\n",
       "      <th>22400</th>\n",
       "      <td>36.0</td>\n",
       "      <td>51.0</td>\n",
       "    </tr>\n",
       "    <tr>\n",
       "      <th>49852</th>\n",
       "      <td>15.0</td>\n",
       "      <td>61.0</td>\n",
       "    </tr>\n",
       "  </tbody>\n",
       "</table>\n",
       "</div>"
      ],
      "text/plain": [
       "        Metros_Totales  Metros_Cubiertos\n",
       "54576            110.0             130.0\n",
       "84426            273.0             664.0\n",
       "97419             38.0              58.0\n",
       "8730              39.0              70.0\n",
       "45865            104.0             143.0\n",
       "107149            42.0              73.0\n",
       "28215             42.0              50.0\n",
       "13455            300.0             900.0\n",
       "40454             50.0              90.0\n",
       "113886            70.0              74.0\n",
       "95190            116.0             150.0\n",
       "4068              94.0             140.0\n",
       "72836            260.0             270.0\n",
       "22400             36.0              51.0\n",
       "49852             15.0              61.0"
      ]
     },
     "execution_count": 81,
     "metadata": {},
     "output_type": "execute_result"
    }
   ],
   "source": [
    "df.loc[df['Metros_Cubiertos']>df['Metros_Totales'],['Metros_Totales','Metros_Cubiertos']].sample(15)"
   ]
  },
  {
   "cell_type": "markdown",
   "metadata": {},
   "source": [
    "Vamos a reemplazar los metros cubiertos por los metros totales"
   ]
  },
  {
   "cell_type": "code",
   "execution_count": 82,
   "metadata": {},
   "outputs": [],
   "source": [
    "# Armamos un dataframe con los casos que necesitamos reemplazar\n",
    "metros_df = df.loc[df['Metros_Cubiertos']>df['Metros_Totales'],['Metros_Totales']]\n",
    "\n",
    "#Cambiamos el nombre de la columna para realizar el update\n",
    "metros_df.columns = ['Metros_Cubiertos']\n",
    "\n",
    "#Hacemos el update en los casos que necesitamos\n",
    "df.update(metros_df)"
   ]
  },
  {
   "cell_type": "code",
   "execution_count": 83,
   "metadata": {},
   "outputs": [
    {
     "data": {
      "text/html": [
       "<div>\n",
       "<style scoped>\n",
       "    .dataframe tbody tr th:only-of-type {\n",
       "        vertical-align: middle;\n",
       "    }\n",
       "\n",
       "    .dataframe tbody tr th {\n",
       "        vertical-align: top;\n",
       "    }\n",
       "\n",
       "    .dataframe thead th {\n",
       "        text-align: right;\n",
       "    }\n",
       "</style>\n",
       "<table border=\"1\" class=\"dataframe\">\n",
       "  <thead>\n",
       "    <tr style=\"text-align: right;\">\n",
       "      <th></th>\n",
       "      <th>Metros_Totales</th>\n",
       "      <th>Metros_Cubiertos</th>\n",
       "    </tr>\n",
       "  </thead>\n",
       "  <tbody>\n",
       "  </tbody>\n",
       "</table>\n",
       "</div>"
      ],
      "text/plain": [
       "Empty DataFrame\n",
       "Columns: [Metros_Totales, Metros_Cubiertos]\n",
       "Index: []"
      ]
     },
     "execution_count": 83,
     "metadata": {},
     "output_type": "execute_result"
    }
   ],
   "source": [
    "#Chequeamos que el update haya funcionado como queriamos, volviendo a filtrar el df original\n",
    "df.loc[df['Metros_Cubiertos']>df['Metros_Totales'],['Metros_Totales','Metros_Cubiertos']]"
   ]
  },
  {
   "cell_type": "markdown",
   "metadata": {},
   "source": [
    "## De la misma manera que completamos la cantidad de ambientes, nos gustaria completar los casos en donde no contamos con el dato de la superficie\n",
    "\n",
    "Si alguna de las dos columnas de superficie esta completa, vamos a completar la otra con ese valor"
   ]
  },
  {
   "cell_type": "code",
   "execution_count": 84,
   "metadata": {},
   "outputs": [
    {
     "data": {
      "text/html": [
       "<div>\n",
       "<style scoped>\n",
       "    .dataframe tbody tr th:only-of-type {\n",
       "        vertical-align: middle;\n",
       "    }\n",
       "\n",
       "    .dataframe tbody tr th {\n",
       "        vertical-align: top;\n",
       "    }\n",
       "\n",
       "    .dataframe thead th {\n",
       "        text-align: right;\n",
       "    }\n",
       "</style>\n",
       "<table border=\"1\" class=\"dataframe\">\n",
       "  <thead>\n",
       "    <tr style=\"text-align: right;\">\n",
       "      <th></th>\n",
       "      <th>Metros_Cubiertos</th>\n",
       "      <th>Metros_Totales</th>\n",
       "    </tr>\n",
       "  </thead>\n",
       "  <tbody>\n",
       "    <tr>\n",
       "      <th>11553</th>\n",
       "      <td>NaN</td>\n",
       "      <td>135.0</td>\n",
       "    </tr>\n",
       "    <tr>\n",
       "      <th>109484</th>\n",
       "      <td>NaN</td>\n",
       "      <td>NaN</td>\n",
       "    </tr>\n",
       "    <tr>\n",
       "      <th>95276</th>\n",
       "      <td>173.0</td>\n",
       "      <td>NaN</td>\n",
       "    </tr>\n",
       "    <tr>\n",
       "      <th>115548</th>\n",
       "      <td>300.0</td>\n",
       "      <td>NaN</td>\n",
       "    </tr>\n",
       "    <tr>\n",
       "      <th>90863</th>\n",
       "      <td>NaN</td>\n",
       "      <td>NaN</td>\n",
       "    </tr>\n",
       "    <tr>\n",
       "      <th>14433</th>\n",
       "      <td>3.0</td>\n",
       "      <td>NaN</td>\n",
       "    </tr>\n",
       "    <tr>\n",
       "      <th>41112</th>\n",
       "      <td>NaN</td>\n",
       "      <td>NaN</td>\n",
       "    </tr>\n",
       "    <tr>\n",
       "      <th>8016</th>\n",
       "      <td>32.0</td>\n",
       "      <td>NaN</td>\n",
       "    </tr>\n",
       "    <tr>\n",
       "      <th>105647</th>\n",
       "      <td>NaN</td>\n",
       "      <td>100.0</td>\n",
       "    </tr>\n",
       "    <tr>\n",
       "      <th>18419</th>\n",
       "      <td>20.0</td>\n",
       "      <td>NaN</td>\n",
       "    </tr>\n",
       "  </tbody>\n",
       "</table>\n",
       "</div>"
      ],
      "text/plain": [
       "        Metros_Cubiertos  Metros_Totales\n",
       "11553                NaN           135.0\n",
       "109484               NaN             NaN\n",
       "95276              173.0             NaN\n",
       "115548             300.0             NaN\n",
       "90863                NaN             NaN\n",
       "14433                3.0             NaN\n",
       "41112                NaN             NaN\n",
       "8016                32.0             NaN\n",
       "105647               NaN           100.0\n",
       "18419               20.0             NaN"
      ]
     },
     "execution_count": 84,
     "metadata": {},
     "output_type": "execute_result"
    }
   ],
   "source": [
    "df.loc[(df['Metros_Cubiertos'].isnull())|(df['Metros_Totales'].isnull()), ['Metros_Cubiertos','Metros_Totales']].sample(10)"
   ]
  },
  {
   "cell_type": "code",
   "execution_count": 85,
   "metadata": {},
   "outputs": [],
   "source": [
    "#Completamos ambas columnas\n",
    "df['Metros_Cubiertos'] = df['Metros_Cubiertos'].fillna(df['Metros_Totales'])\n",
    "df['Metros_Totales'] = df['Metros_Totales'].fillna(df['Metros_Cubiertos'])"
   ]
  },
  {
   "cell_type": "markdown",
   "metadata": {},
   "source": [
    "De esta manera, los unicos casos faltantes son aquellos en los que ambos datos figuran vacios."
   ]
  },
  {
   "cell_type": "markdown",
   "metadata": {},
   "source": [
    "## Ahora buscamos los casos faltantes en la descripcion\n",
    "\n",
    "En este caso puede ser un poco mas engorroso, ya que en la descripcion podemos encontrar strings del estilo \"a 200 metros del subte\", el cual nos arrojaria un falso positivo si seteamos nuestra RegEx para el siguiente grupo de captura:\n",
    "\n",
    "r'(\\d+)(\\s)(\\b(metros)\\b)'\n",
    "\n",
    "Por eso, usaremos la expresion regular \n",
    "\n",
    "r'(\\d+)(\\s)(\\b(m2)\\b)'"
   ]
  },
  {
   "cell_type": "code",
   "execution_count": 86,
   "metadata": {},
   "outputs": [],
   "source": [
    "# Parseamos la descripcion buscando el patron\n",
    "\n",
    "patron = r'(\\d+)(\\s?)(\\b(m2)\\b)'\n",
    "\n",
    "df['Metros_Desc'] = parser(df,'Descripcion', patron)"
   ]
  },
  {
   "cell_type": "code",
   "execution_count": 87,
   "metadata": {},
   "outputs": [],
   "source": [
    "# Completamos los casos donde el valor obtenido es menor a la media mas 3 desvios\n",
    "\n",
    "df['Metros_Totales'] = df['Metros_Totales'].fillna(df.loc[df['Metros_Desc']<=(df['Metros_Totales'].mean() + 3*df['Metros_Totales'].std()),'Metros_Desc'])\n",
    "df['Metros_Cubiertos'] = df['Metros_Cubiertos'].fillna(df.loc[df['Metros_Desc']<=(df['Metros_Cubiertos'].mean() + 3*df['Metros_Cubiertos'].std()),'Metros_Desc'])"
   ]
  },
  {
   "cell_type": "code",
   "execution_count": 88,
   "metadata": {},
   "outputs": [
    {
     "name": "stdout",
     "output_type": "stream",
     "text": [
      "False    110015\n",
      "True      11205\n",
      "Name: Metros_Cubiertos, dtype: int64\n",
      "False    110107\n",
      "True      11113\n",
      "Name: Metros_Totales, dtype: int64\n"
     ]
    }
   ],
   "source": [
    "# Vemos que logramos completar bastantes casos\n",
    "\n",
    "print(df['Metros_Cubiertos'].isnull().value_counts())\n",
    "\n",
    "print(df['Metros_Totales'].isnull().value_counts())"
   ]
  },
  {
   "cell_type": "markdown",
   "metadata": {},
   "source": [
    "## Analicemos ahora las columnas de precio de venta\n",
    "\n",
    "Tenemos una columna con el precio en pesos, y otra en dolares. En base a esto, sabemos que en la descripcion el precio puede figurar en cualquiera de las dos monedas, o ambas.\n",
    "\n",
    "Para eso vamos a definir dos RegEx distintas y generar dos columnas distintas"
   ]
  },
  {
   "cell_type": "markdown",
   "metadata": {},
   "source": [
    "## Precio en Dolares"
   ]
  },
  {
   "cell_type": "code",
   "execution_count": 89,
   "metadata": {},
   "outputs": [
    {
     "data": {
      "text/plain": [
       "1225"
      ]
     },
     "execution_count": 89,
     "metadata": {},
     "output_type": "execute_result"
    }
   ],
   "source": [
    "#Analizamos primero los candidatos a outliers\n",
    "\n",
    "len(df.loc[df['Precio_Dolares']>=(df['Precio_Dolares'].mean() + 3*df['Precio_Dolares'].std()),'Precio_Dolares'])"
   ]
  },
  {
   "cell_type": "code",
   "execution_count": 90,
   "metadata": {},
   "outputs": [
    {
     "data": {
      "image/png": "[encoded data removed]",
      "text/plain": [
       "<Figure size 432x288 with 1 Axes>"
      ]
     },
     "metadata": {},
     "output_type": "display_data"
    }
   ],
   "source": [
    "#Veamoslo graficamente\n",
    "df['Precio_Dolares'].plot.box(logy=True)\n",
    "plt.show()"
   ]
  },
  {
   "cell_type": "code",
   "execution_count": 91,
   "metadata": {},
   "outputs": [],
   "source": [
    "# Los transformamos a NaN y vamos a tratar de completarlos con la descripcion\n",
    "df.loc[df['Precio_Dolares']>=(df['Precio_Dolares'].mean() + 3*df['Precio_Dolares'].std()),'Precio_Dolares'] = np.nan"
   ]
  },
  {
   "cell_type": "code",
   "execution_count": 92,
   "metadata": {},
   "outputs": [
    {
     "data": {
      "text/plain": [
       "False    99585\n",
       "True     21635\n",
       "Name: Precio_Dolares, dtype: int64"
      ]
     },
     "execution_count": 92,
     "metadata": {},
     "output_type": "execute_result"
    }
   ],
   "source": [
    "# Chequeamos la cantidad de valores nulos \n",
    "df['Precio_Dolares'].isnull().value_counts()"
   ]
  },
  {
   "cell_type": "code",
   "execution_count": 93,
   "metadata": {},
   "outputs": [],
   "source": [
    "## Precio en dolares. Esta RegEx encontrara los valores del estilo U$S XXX.XXX, hasta U$S 999.999\n",
    "\n",
    "# Parseamos en la descripcion la RegEx que necesitamos\n",
    "\n",
    "patron = r'(\\bU\\$S)(\\s)(?P<miles>\\d+)(\\.)?(?P<unidades>\\d*)'\n",
    "\n",
    "p_dls = df.Descripcion.str.extract(patron, flags= re.IGNORECASE, expand = False)"
   ]
  },
  {
   "cell_type": "code",
   "execution_count": 94,
   "metadata": {},
   "outputs": [],
   "source": [
    "#Transformamos las columnas a numeric\n",
    "\n",
    "p_dls['miles'] = pd.to_numeric(p_dls['miles'], errors= 'coerce')\n",
    "p_dls['unidades'] = pd.to_numeric(p_dls['unidades'], errors= 'coerce')"
   ]
  },
  {
   "cell_type": "code",
   "execution_count": 95,
   "metadata": {},
   "outputs": [],
   "source": [
    "# Generamos la columna con el precio en dolares\n",
    "\n",
    "p_dls['Precio'] = p_dls['miles']*1000 + p_dls['unidades']"
   ]
  },
  {
   "cell_type": "code",
   "execution_count": 96,
   "metadata": {},
   "outputs": [],
   "source": [
    "# Completamos los valores nulos de la columna original\n",
    "\n",
    "df['Precio_Dolares'] = df['Precio_Dolares'].fillna(p_dls['Precio'])"
   ]
  },
  {
   "cell_type": "code",
   "execution_count": 97,
   "metadata": {},
   "outputs": [
    {
     "data": {
      "text/plain": [
       "False    99989\n",
       "True     21231\n",
       "Name: Precio_Dolares, dtype: int64"
      ]
     },
     "execution_count": 97,
     "metadata": {},
     "output_type": "execute_result"
    }
   ],
   "source": [
    "# Chequeamos cuantos completamos\n",
    "\n",
    "df['Precio_Dolares'].isnull().value_counts()"
   ]
  },
  {
   "cell_type": "markdown",
   "metadata": {},
   "source": [
    "## Precio en pesos"
   ]
  },
  {
   "cell_type": "code",
   "execution_count": 98,
   "metadata": {},
   "outputs": [
    {
     "data": {
      "text/plain": [
       "1225"
      ]
     },
     "execution_count": 98,
     "metadata": {},
     "output_type": "execute_result"
    }
   ],
   "source": [
    "#Analizamos primero los candidatos a outliers\n",
    "\n",
    "len(df.loc[df['Precio_ARS']>=(df['Precio_ARS'].mean() + 3*df['Precio_ARS'].std()),'Precio_ARS'])"
   ]
  },
  {
   "cell_type": "code",
   "execution_count": 99,
   "metadata": {},
   "outputs": [
    {
     "data": {
      "image/png": "[encoded data removed]",
      "text/plain": [
       "<Figure size 432x288 with 1 Axes>"
      ]
     },
     "metadata": {},
     "output_type": "display_data"
    }
   ],
   "source": [
    "#Veamoslo graficamente\n",
    "df['Precio_ARS'].plot.box(logy=True)\n",
    "plt.show()"
   ]
  },
  {
   "cell_type": "code",
   "execution_count": 100,
   "metadata": {},
   "outputs": [],
   "source": [
    "# Los transformamos a NaN y vamos a tratar de completarlos con la descripcion\n",
    "df.loc[df['Precio_ARS']>=(df['Precio_ARS'].mean() + 3*df['Precio_ARS'].std()),'Precio_ARS'] = np.nan"
   ]
  },
  {
   "cell_type": "code",
   "execution_count": 101,
   "metadata": {},
   "outputs": [
    {
     "data": {
      "text/plain": [
       "False    99585\n",
       "True     21635\n",
       "Name: Precio_ARS, dtype: int64"
      ]
     },
     "execution_count": 101,
     "metadata": {},
     "output_type": "execute_result"
    }
   ],
   "source": [
    "# Chequeamos la cantidad de valores nulos \n",
    "df['Precio_ARS'].isnull().value_counts()"
   ]
  },
  {
   "cell_type": "code",
   "execution_count": 102,
   "metadata": {},
   "outputs": [],
   "source": [
    "## Precio en Pesos. Esta RegEx encontrara los valores del estilo $ X.XXX.XXX o $ XXX.XXX\n",
    "\n",
    "# Parseamos en la descripcion la RegEx que necesitamos\n",
    "\n",
    "patron = r'(\\$)(\\s)?(?P<millones>\\d*)(\\.)?(?P<miles>\\d{3})(\\.)(?P<unidades>\\d{3})'\n",
    "\n",
    "p_ars = df.Descripcion.str.extract(patron, flags= re.IGNORECASE, expand = False)"
   ]
  },
  {
   "cell_type": "code",
   "execution_count": 103,
   "metadata": {},
   "outputs": [
    {
     "data": {
      "text/html": [
       "<div>\n",
       "<style scoped>\n",
       "    .dataframe tbody tr th:only-of-type {\n",
       "        vertical-align: middle;\n",
       "    }\n",
       "\n",
       "    .dataframe tbody tr th {\n",
       "        vertical-align: top;\n",
       "    }\n",
       "\n",
       "    .dataframe thead th {\n",
       "        text-align: right;\n",
       "    }\n",
       "</style>\n",
       "<table border=\"1\" class=\"dataframe\">\n",
       "  <thead>\n",
       "    <tr style=\"text-align: right;\">\n",
       "      <th></th>\n",
       "      <th>millones</th>\n",
       "      <th>miles</th>\n",
       "      <th>unidades</th>\n",
       "    </tr>\n",
       "  </thead>\n",
       "  <tbody>\n",
       "    <tr>\n",
       "      <th>7306</th>\n",
       "      <td></td>\n",
       "      <td>261</td>\n",
       "      <td>379</td>\n",
       "    </tr>\n",
       "    <tr>\n",
       "      <th>89164</th>\n",
       "      <td></td>\n",
       "      <td>420</td>\n",
       "      <td>000</td>\n",
       "    </tr>\n",
       "    <tr>\n",
       "      <th>101478</th>\n",
       "      <td>1</td>\n",
       "      <td>540</td>\n",
       "      <td>000</td>\n",
       "    </tr>\n",
       "    <tr>\n",
       "      <th>25696</th>\n",
       "      <td></td>\n",
       "      <td>235</td>\n",
       "      <td>500</td>\n",
       "    </tr>\n",
       "    <tr>\n",
       "      <th>89076</th>\n",
       "      <td></td>\n",
       "      <td>420</td>\n",
       "      <td>000</td>\n",
       "    </tr>\n",
       "    <tr>\n",
       "      <th>97462</th>\n",
       "      <td>2</td>\n",
       "      <td>000</td>\n",
       "      <td>000</td>\n",
       "    </tr>\n",
       "    <tr>\n",
       "      <th>120395</th>\n",
       "      <td>1</td>\n",
       "      <td>300</td>\n",
       "      <td>500</td>\n",
       "    </tr>\n",
       "    <tr>\n",
       "      <th>21182</th>\n",
       "      <td>1</td>\n",
       "      <td>200</td>\n",
       "      <td>000</td>\n",
       "    </tr>\n",
       "    <tr>\n",
       "      <th>115068</th>\n",
       "      <td></td>\n",
       "      <td>750</td>\n",
       "      <td>000</td>\n",
       "    </tr>\n",
       "    <tr>\n",
       "      <th>27636</th>\n",
       "      <td></td>\n",
       "      <td>260</td>\n",
       "      <td>000</td>\n",
       "    </tr>\n",
       "  </tbody>\n",
       "</table>\n",
       "</div>"
      ],
      "text/plain": [
       "       millones miles unidades\n",
       "7306              261      379\n",
       "89164             420      000\n",
       "101478        1   540      000\n",
       "25696             235      500\n",
       "89076             420      000\n",
       "97462         2   000      000\n",
       "120395        1   300      500\n",
       "21182         1   200      000\n",
       "115068            750      000\n",
       "27636             260      000"
      ]
     },
     "execution_count": 103,
     "metadata": {},
     "output_type": "execute_result"
    }
   ],
   "source": [
    "# Chequeamos si extrajimos la informacion correctamente\n",
    "\n",
    "p_ars.loc[~p_ars['miles'].isnull(),['millones','miles','unidades']].sample(10)"
   ]
  },
  {
   "cell_type": "code",
   "execution_count": 104,
   "metadata": {},
   "outputs": [],
   "source": [
    "#Transformamos las columnas a numeric\n",
    "\n",
    "p_ars['millones'] = pd.to_numeric(p_ars['millones'], errors= 'coerce')\n",
    "p_ars['miles'] = pd.to_numeric(p_ars['miles'], errors= 'coerce')\n",
    "p_ars['unidades'] = pd.to_numeric(p_ars['unidades'], errors= 'coerce')"
   ]
  },
  {
   "cell_type": "code",
   "execution_count": 105,
   "metadata": {},
   "outputs": [],
   "source": [
    "# Generamos la columna con el precio en pesos\n",
    "\n",
    "p_ars['Precio'] = p_ars['millones']*1000000 +p_ars['miles']*1000 + p_ars['unidades']"
   ]
  },
  {
   "cell_type": "code",
   "execution_count": 106,
   "metadata": {},
   "outputs": [],
   "source": [
    "# Completamos los valores nulos de la columna original\n",
    "\n",
    "df['Precio_ARS'] = df['Precio_ARS'].fillna(p_ars['Precio'])"
   ]
  },
  {
   "cell_type": "code",
   "execution_count": 107,
   "metadata": {},
   "outputs": [
    {
     "data": {
      "text/plain": [
       "False    99652\n",
       "True     21568\n",
       "Name: Precio_ARS, dtype: int64"
      ]
     },
     "execution_count": 107,
     "metadata": {},
     "output_type": "execute_result"
    }
   ],
   "source": [
    "# Chequeamos cuantos completamos\n",
    "\n",
    "df['Precio_ARS'].isnull().value_counts()"
   ]
  },
  {
   "cell_type": "markdown",
   "metadata": {},
   "source": [
    "## Por otro lado, con las variables de Precio Total, Superficie y Precio por m2, si dos de ellas estan completas, podriamos completar la 3ra como una funcion de las otras."
   ]
  },
  {
   "cell_type": "code",
   "execution_count": 108,
   "metadata": {},
   "outputs": [],
   "source": [
    "# Limpiamos los outliers de las columnas de precio por metro cuadrado\n",
    "\n",
    "df.loc[df['Precio_m2']>=(df['Precio_m2'].mean() + 3*df['Precio_m2'].std()),'Precio_m2'] = np.nan\n",
    "df.loc[df['Precio_m2_Dls']>=(df['Precio_m2_Dls'].mean() + 3*df['Precio_m2_Dls'].std()),'Precio_m2_Dls'] = np.nan"
   ]
  },
  {
   "cell_type": "markdown",
   "metadata": {},
   "source": [
    "Primero, vamos a buscar el valor del metro cuadrado promedio segun la zona de la propiedad, y utilizarlo para completar en los casos faltantes."
   ]
  },
  {
   "cell_type": "code",
   "execution_count": 109,
   "metadata": {},
   "outputs": [],
   "source": [
    "# Generamos la media condicionada al Barrio del Precio por metro cuadrado en pesos y dolares\n",
    "\n",
    "m2_Barrio = df.groupby('Barrio')['Precio_m2'].mean()\n",
    "\n",
    "m2_Dls_Barrio = df.groupby('Barrio')['Precio_m2_Dls'].mean()"
   ]
  },
  {
   "cell_type": "markdown",
   "metadata": {},
   "source": [
    "## Veamos como se comparan los 5 \"Barrios\" mas caros contra los mas baratos"
   ]
  },
  {
   "cell_type": "code",
   "execution_count": 110,
   "metadata": {},
   "outputs": [],
   "source": [
    "#Top 5 barrios mas caros\n",
    "barrios_caros = list(m2_Barrio.nlargest(n=5, keep='first').index)\n",
    "barrios_caros_values = list(m2_Barrio.nlargest(n=5, keep='first'))\n",
    "\n",
    "barrios_baratos = list(m2_Barrio.nsmallest(n=5, keep='first').index)\n",
    "barrios_baratos_values = list(m2_Barrio.nsmallest(n=5, keep='first'))"
   ]
  },
  {
   "cell_type": "code",
   "execution_count": 111,
   "metadata": {},
   "outputs": [
    {
     "data": {
      "text/html": [
       "<iframe id=\"igraph\" scrolling=\"no\" style=\"border:none;\" seamless=\"seamless\" src=\"https://plot.ly/~raharari/20.embed\" height=\"300px\" width=\"900px\"></iframe>"
      ],
      "text/plain": [
       "<plotly.tools.PlotlyDisplay object>"
      ]
     },
     "execution_count": 111,
     "metadata": {},
     "output_type": "execute_result"
    }
   ],
   "source": [
    "from plotly import tools\n",
    "\n",
    "trace1 = go.Bar(\n",
    "            x=barrios_caros,\n",
    "            y=barrios_caros_values,\n",
    "            name= 'Barrios Caros' \n",
    ")\n",
    "trace2 = go.Bar(\n",
    "            x=barrios_baratos,\n",
    "            y=barrios_baratos_values,\n",
    "            name= 'Barrios Baratos'\n",
    ")\n",
    "fig = tools.make_subplots(rows=1, cols=2, print_grid=False)\n",
    "\n",
    "fig.append_trace(trace1, 1, 1)\n",
    "fig.append_trace(trace2, 1, 2)\n",
    "\n",
    "fig['layout'].update(height=300, width=900, title='Top 5 Precio m2')\n",
    "py.iplot(fig, filename='top-m2')"
   ]
  },
  {
   "cell_type": "markdown",
   "metadata": {},
   "source": [
    "## Notamos que hay una gran dispersion entre los 5 \"Barrios\" mas caros y los mas baratos por valor de m2"
   ]
  },
  {
   "cell_type": "code",
   "execution_count": 112,
   "metadata": {},
   "outputs": [],
   "source": [
    "# Completamos los casos nulos con el mapeo del diccionario\n",
    "df.loc[df['Precio_m2'].isnull(),'Precio_m2'] = df['Barrio'].map(m2_Barrio.to_dict())\n",
    "df.loc[df['Precio_m2_Dls'].isnull(),'Precio_m2_Dls'] = df['Barrio'].map(m2_Dls_Barrio.to_dict())"
   ]
  },
  {
   "cell_type": "markdown",
   "metadata": {},
   "source": [
    "## Ahora, los casos que aun figuran vacios vamos a completarlos"
   ]
  },
  {
   "cell_type": "code",
   "execution_count": 113,
   "metadata": {},
   "outputs": [],
   "source": [
    "#Completamos Precio ARS cuando tenemos Precio x M2 y Superficie\n",
    "\n",
    "preciom2 = df.loc[(df['Precio_ARS'].isnull())&(~df['Precio_m2'].isnull())&(~df['Metros_Totales'].isnull()) , ['Precio_m2']]\n",
    "superficie = df.loc[(df['Precio_ARS'].isnull())&(~df['Precio_m2'].isnull())&(~df['Metros_Totales'].isnull()) , ['Metros_Totales']]\n",
    "\n",
    "df.loc[df['Precio_ARS'].isnull(), 'Precio_ARS'] = preciom2*superficie"
   ]
  },
  {
   "cell_type": "code",
   "execution_count": 114,
   "metadata": {},
   "outputs": [],
   "source": [
    "#Completamos Precio x M2 cuando tenemos Precio ARS y Superficie\n",
    "\n",
    "precio = df.loc[~(df['Precio_ARS'].isnull())&(df['Precio_m2'].isnull())&(~df['Metros_Totales'].isnull()) , ['Precio_ARS']]\n",
    "superficie = df.loc[~(df['Precio_ARS'].isnull())&(df['Precio_m2'].isnull())&(~df['Metros_Totales'].isnull()) , ['Metros_Totales']]\n",
    "\n",
    "df.loc[df['Precio_m2'].isnull(), 'Precio_m2'] = precio/superficie"
   ]
  },
  {
   "cell_type": "code",
   "execution_count": 115,
   "metadata": {},
   "outputs": [],
   "source": [
    "#Completamos Precio DLS cuando tenemos Precio x M2 Dls y Superficie\n",
    "\n",
    "preciom2 = df.loc[(df['Precio_Dolares'].isnull())&(~df['Precio_m2_Dls'].isnull())&(~df['Metros_Totales'].isnull()) , ['Precio_m2_Dls']]\n",
    "superficie = df.loc[(df['Precio_Dolares'].isnull())&(~df['Precio_m2_Dls'].isnull())&(~df['Metros_Totales'].isnull()) , ['Metros_Totales']]\n",
    "\n",
    "df.loc[df['Precio_Dolares'].isnull(), 'Precio_Dolares'] = preciom2*superficie"
   ]
  },
  {
   "cell_type": "code",
   "execution_count": 116,
   "metadata": {},
   "outputs": [],
   "source": [
    "#Completamos Precio x M2 Dls cuando tenemos Precio DLS y Superficie\n",
    "\n",
    "precio = df.loc[~(df['Precio_Dolares'].isnull())&(df['Precio_m2_Dls'].isnull())&(~df['Metros_Totales'].isnull()) , ['Precio_Dolares']]\n",
    "superficie = df.loc[~(df['Precio_Dolares'].isnull())&(df['Precio_m2_Dls'].isnull())&(~df['Metros_Totales'].isnull()) , ['Metros_Totales']]\n",
    "\n",
    "df.loc[df['Precio_m2_Dls'].isnull(), 'Precio_m2_Dls'] = precio/superficie"
   ]
  },
  {
   "cell_type": "code",
   "execution_count": 117,
   "metadata": {},
   "outputs": [],
   "source": [
    "#Completamos Superficie cuando tenemos Precio Total y Precio x M2 (Pesos)\n",
    "\n",
    "preciom2 = df.loc[~(df['Precio_ARS'].isnull())&(~df['Precio_m2'].isnull())&(df['Metros_Totales'].isnull()) , ['Precio_m2']]\n",
    "precio = df.loc[~(df['Precio_ARS'].isnull())&(df['Precio_m2'].isnull())&(df['Metros_Totales'].isnull()) , ['Precio_ARS']]\n",
    "\n",
    "\n",
    "df.loc[df['Metros_Totales'].isnull(), 'Metros_Totales'] = precio/preciom2"
   ]
  },
  {
   "cell_type": "code",
   "execution_count": 118,
   "metadata": {},
   "outputs": [],
   "source": [
    "#Completamos Superficie cuando tenemos Precio Total y Precio x M2 (Dolares)\n",
    "\n",
    "preciom2 = df.loc[~(df['Precio_Dolares'].isnull())&(~df['Precio_m2_Dls'].isnull())&(df['Metros_Totales'].isnull()) , ['Precio_m2_Dls']]\n",
    "precio = df.loc[~(df['Precio_Dolares'].isnull())&(df['Precio_m2_Dls'].isnull())&(df['Metros_Totales'].isnull()) , ['Precio_Dolares']]\n",
    "\n",
    "\n",
    "df.loc[df['Metros_Totales'].isnull(), 'Metros_Totales'] = precio/preciom2"
   ]
  },
  {
   "cell_type": "markdown",
   "metadata": {},
   "source": [
    "## Geolocalizacion\n",
    "\n",
    "De la pagina http://www.geonames.org/ obtuvimos un dataset con los GeoName_ID de Argentina, los que vamos a utilizar para completar la informacion de Latitud y Longitud"
   ]
  },
  {
   "cell_type": "code",
   "execution_count": 119,
   "metadata": {},
   "outputs": [],
   "source": [
    "# Cargamos el archivo en un nuevo df\n",
    "\n",
    "geonames = pd.read_csv('C:/Users/Ramiro/Desktop/Digital House/Desafios/geonames.csv', sep=';')"
   ]
  },
  {
   "cell_type": "code",
   "execution_count": 120,
   "metadata": {},
   "outputs": [
    {
     "data": {
      "text/html": [
       "<div>\n",
       "<style scoped>\n",
       "    .dataframe tbody tr th:only-of-type {\n",
       "        vertical-align: middle;\n",
       "    }\n",
       "\n",
       "    .dataframe tbody tr th {\n",
       "        vertical-align: top;\n",
       "    }\n",
       "\n",
       "    .dataframe thead th {\n",
       "        text-align: right;\n",
       "    }\n",
       "</style>\n",
       "<table border=\"1\" class=\"dataframe\">\n",
       "  <thead>\n",
       "    <tr style=\"text-align: right;\">\n",
       "      <th></th>\n",
       "      <th>GeoNames_ID</th>\n",
       "      <th>Latitud</th>\n",
       "      <th>Longitud</th>\n",
       "    </tr>\n",
       "  </thead>\n",
       "  <tbody>\n",
       "    <tr>\n",
       "      <th>13</th>\n",
       "      <td>3430234.0</td>\n",
       "      <td>NaN</td>\n",
       "      <td>NaN</td>\n",
       "    </tr>\n",
       "    <tr>\n",
       "      <th>14</th>\n",
       "      <td>3430234.0</td>\n",
       "      <td>NaN</td>\n",
       "      <td>NaN</td>\n",
       "    </tr>\n",
       "    <tr>\n",
       "      <th>42</th>\n",
       "      <td>3429979.0</td>\n",
       "      <td>NaN</td>\n",
       "      <td>NaN</td>\n",
       "    </tr>\n",
       "    <tr>\n",
       "      <th>49</th>\n",
       "      <td>3434130.0</td>\n",
       "      <td>NaN</td>\n",
       "      <td>NaN</td>\n",
       "    </tr>\n",
       "    <tr>\n",
       "      <th>62</th>\n",
       "      <td>3436042.0</td>\n",
       "      <td>NaN</td>\n",
       "      <td>NaN</td>\n",
       "    </tr>\n",
       "  </tbody>\n",
       "</table>\n",
       "</div>"
      ],
      "text/plain": [
       "    GeoNames_ID  Latitud  Longitud\n",
       "13    3430234.0      NaN       NaN\n",
       "14    3430234.0      NaN       NaN\n",
       "42    3429979.0      NaN       NaN\n",
       "49    3434130.0      NaN       NaN\n",
       "62    3436042.0      NaN       NaN"
      ]
     },
     "execution_count": 120,
     "metadata": {},
     "output_type": "execute_result"
    }
   ],
   "source": [
    "#Vemos los casos que en el df original tienen un ID de GeoNames, pero tienen vacio los campos de Latitud y Longitud\n",
    "df.loc[(~df['GeoNames_ID'].isnull())&(df['Latitud'].isnull()),['GeoNames_ID','Latitud','Longitud']].head()"
   ]
  },
  {
   "cell_type": "code",
   "execution_count": 121,
   "metadata": {},
   "outputs": [],
   "source": [
    "#Creamos un diccionario para mapear la Latitud\n",
    "latitud_dict = {}\n",
    "\n",
    "#Creamos una tupla con los pares de key y value\n",
    "geoname_lat = zip(geonames['Geonames_ID'],geonames['Latitud'])\n",
    "\n",
    "#Rellenamos el diccionario\n",
    "for geoname, latitud in geoname_lat:\n",
    "    latitud_dict[geoname] = latitud"
   ]
  },
  {
   "cell_type": "code",
   "execution_count": 122,
   "metadata": {},
   "outputs": [],
   "source": [
    "#Hacemos lo mismo para la Longitud\n",
    "longitud_dict = {}\n",
    "\n",
    "#Creamos una tupla con los pares de key y value\n",
    "geoname_lon = zip(geonames['Geonames_ID'],geonames['Longitud'])\n",
    "\n",
    "#Rellenamos el diccionario\n",
    "for geoname, longitud in geoname_lon:\n",
    "    longitud_dict[geoname] = longitud"
   ]
  },
  {
   "cell_type": "code",
   "execution_count": 123,
   "metadata": {},
   "outputs": [],
   "source": [
    "#Mapeamos los valores del dataframe de GeoNames para completar\n",
    "df.loc[df['Latitud'].isnull(),'Latitud'] = df['GeoNames_ID'].map(latitud_dict)\n",
    "df.loc[df['Longitud'].isnull(),'Longitud'] = df['GeoNames_ID'].map(longitud_dict)"
   ]
  },
  {
   "cell_type": "code",
   "execution_count": 124,
   "metadata": {},
   "outputs": [],
   "source": [
    "#Por ultimo completamos el campo Latitud_Longitud con la concatenacion de los otros dos\n",
    "\n",
    "df.loc[(df['Latitud_Longitud'].isnull())&(~df['Latitud'].isnull()),'Latitud_Longitud'] = df['Latitud'].astype(str)+','+df['Longitud'].astype(str)"
   ]
  },
  {
   "cell_type": "markdown",
   "metadata": {},
   "source": [
    "## Para terminar de limpiar el dataset, vamos a marcar los outliers de las columnas que limpiamos y vamos a eliminar las observaciones con nulos en variables relevantes"
   ]
  },
  {
   "cell_type": "code",
   "execution_count": 125,
   "metadata": {},
   "outputs": [],
   "source": [
    "# No vamos a eliminar los candidatos a outlier de la variable Cantidad_Ambientes, ya que podrian representar propiedades especiales\n",
    "\n",
    "#Superficie\n",
    "df.loc[np.abs(df['Metros_Cubiertos']-df['Metros_Cubiertos'].mean()) >= (3*df['Metros_Cubiertos'].std()),'Metros_Cubiertos'] = np.nan\n",
    "df.loc[np.abs(df['Metros_Totales']-df['Metros_Totales'].mean()) >= (3*df['Metros_Totales'].std()),'Metros_Totales'] = np.nan\n",
    "\n",
    "#Precio Total\n",
    "df.loc[np.abs(df['Precio_ARS']-df['Precio_ARS'].mean()) >= (3*df['Precio_ARS'].std()),'Precio_ARS'] = np.nan\n",
    "df.loc[np.abs(df['Precio_Dolares']-df['Precio_Dolares'].mean()) >= (3*df['Precio_Dolares'].std()),'Precio_Dolares'] = np.nan\n",
    "\n",
    "#Precio por m2\n",
    "df.loc[np.abs(df['Precio_m2']-df['Precio_m2'].mean()) >= (3*df['Precio_m2'].std()),'Precio_m2'] = np.nan\n",
    "df.loc[np.abs(df['Precio_m2_Dls']-df['Precio_m2_Dls'].mean()) >= (3*df['Precio_m2_Dls'].std()),'Precio_m2_Dls'] = np.nan\n"
   ]
  },
  {
   "cell_type": "code",
   "execution_count": 126,
   "metadata": {},
   "outputs": [],
   "source": [
    "#Dropeamos todas las observaciones que tengan algun valor nulo en las columnas relevantes\n",
    "columnas_a_chequear = ['Metros_Cubiertos','Metros_Totales', 'Precio_ARS', 'Precio_Dolares', 'Precio_m2', 'Precio_m2_Dls','Cantidad_Ambientes']\n",
    "\n",
    "df = df.dropna(axis =0 , how = 'any', subset = columnas_a_chequear)"
   ]
  },
  {
   "cell_type": "markdown",
   "metadata": {},
   "source": [
    "## Conclusiones\n",
    "Para los graficos usamos informacion de la pagina:\n",
    "https://python-para-impacientes.blogspot.com/2014/08/graficos-en-ipython.html"
   ]
  },
  {
   "cell_type": "code",
   "execution_count": 127,
   "metadata": {},
   "outputs": [],
   "source": [
    "# Importamos librerias para graficar\n",
    "import seaborn as sns"
   ]
  },
  {
   "cell_type": "markdown",
   "metadata": {},
   "source": [
    "## Veamos como cambió la distribucion de valores nulos en el dataset\n"
   ]
  },
  {
   "cell_type": "code",
   "execution_count": 128,
   "metadata": {},
   "outputs": [
    {
     "data": {
      "text/html": [
       "<iframe id=\"igraph\" scrolling=\"no\" style=\"border:none;\" seamless=\"seamless\" src=\"https://plot.ly/~raharari/22.embed\" height=\"900px\" width=\"900px\"></iframe>"
      ],
      "text/plain": [
       "<plotly.tools.PlotlyDisplay object>"
      ]
     },
     "execution_count": 128,
     "metadata": {},
     "output_type": "execute_result"
    }
   ],
   "source": [
    "# Creamos una lista con los valores nulos y no nulos para graficar\n",
    "\n",
    "no_nulos_limpio = df.count().tolist()\n",
    "nulos_limpio = [len(df)-x for x in no_nulos_limpio]\n",
    "\n",
    "\n",
    "#Mostramos el porcentaje de nulos y no nulos en cada columna\n",
    "trace1 = go.Bar(\n",
    "    x=['Tipo_Propiedad', 'Barrio', 'Ubicacion_Completa',\n",
    "       'Pais', 'Provincia', 'GeoNames_ID', 'Latitud_Longitud', 'Latitud',\n",
    "       'Longitud', 'Precio', 'Moneda', 'Precio_ARS', 'Precio_Dolares',\n",
    "       'Metros_Totales', 'Metros_Cubiertos', 'Precio_m2_Dls', 'Precio_m2',\n",
    "       'Cantidad_Ambientes', 'Descripcion', 'Titulo'],\n",
    "    y=nulos_limpio,\n",
    "    name='Valores Nulos - DS Limpio',\n",
    "    hoverinfo='text',\n",
    "    text=[('%: ' + str((x/len(df))*100)) for x, y in zip(nulos_limpio, no_nulos_limpio)]\n",
    ")\n",
    "trace2 = go.Bar(\n",
    "    x=['Tipo_Propiedad', 'Barrio', 'Ubicacion_Completa',\n",
    "       'Pais', 'Provincia', 'GeoNames_ID', 'Latitud_Longitud', 'Latitud',\n",
    "       'Longitud', 'Precio', 'Moneda', 'Precio_ARS', 'Precio_Dolares',\n",
    "       'Metros_Totales', 'Metros_Cubiertos', 'Precio_m2_Dls', 'Precio_m2',\n",
    "       'Cantidad_Ambientes', 'Descripcion', 'Titulo'],\n",
    "    y= no_nulos_limpio,\n",
    "    name='Valores No Nulos - DS Limpio',\n",
    "    hoverinfo='text',\n",
    "    text=[('%: ' + str((y/len(df))*100)) for x, y in zip(nulos_limpio, no_nulos_limpio)]   \n",
    ")\n",
    "trace3 = go.Bar(\n",
    "    x=['Tipo_Propiedad', 'Barrio', 'Ubicacion_Completa',\n",
    "       'Pais', 'Provincia', 'GeoNames_ID', 'Latitud_Longitud', 'Latitud',\n",
    "       'Longitud', 'Precio', 'Moneda', 'Precio_ARS', 'Precio_Dolares',\n",
    "       'Metros_Totales', 'Metros_Cubiertos', 'Precio_m2_Dls', 'Precio_m2',\n",
    "       'Cantidad_Ambientes', 'Descripcion', 'Titulo'],\n",
    "    y=nulos,\n",
    "    name='Valores Nulos',\n",
    "    hoverinfo='text',\n",
    "    text=[('%: ' + str((x/121200)*100)) for x, y in zip(nulos, no_nulos)]\n",
    ")\n",
    "trace4 = go.Bar(\n",
    "    x=['Tipo_Propiedad', 'Barrio', 'Ubicacion_Completa',\n",
    "       'Pais', 'Provincia', 'GeoNames_ID', 'Latitud_Longitud', 'Latitud',\n",
    "       'Longitud', 'Precio', 'Moneda', 'Precio_ARS', 'Precio_Dolares',\n",
    "       'Metros_Totales', 'Metros_Cubiertos', 'Precio_m2_Dls', 'Precio_m2',\n",
    "       'Cantidad_Ambientes', 'Descripcion', 'Titulo'],\n",
    "    y= no_nulos,\n",
    "    name='Valores No Nulos',\n",
    "    hoverinfo='text',\n",
    "    text=[('%: ' + str((y/121200)*100)) for x, y in zip(nulos, no_nulos)]   \n",
    ")\n",
    "\n",
    "fig = tools.make_subplots(rows=2, cols=1, print_grid=False)\n",
    "\n",
    "fig.append_trace(trace1, 1, 1)\n",
    "fig.append_trace(trace2, 1, 1)\n",
    "fig.append_trace(trace3, 2, 1)\n",
    "fig.append_trace(trace4, 2, 1)\n",
    "\n",
    "fig['layout'].update(height=900, width=900, title='DataSet limpio vs DataSet original', barmode = 'stack')\n",
    "py.iplot(fig, filename='nulos')"
   ]
  },
  {
   "cell_type": "markdown",
   "metadata": {},
   "source": [
    "## Existe alguna correlacion entre las variables?"
   ]
  },
  {
   "cell_type": "code",
   "execution_count": 129,
   "metadata": {},
   "outputs": [
    {
     "data": {
      "image/png": "[encoded data removed]",
      "text/plain": [
       "<Figure size 1080x1080 with 2 Axes>"
      ]
     },
     "metadata": {},
     "output_type": "display_data"
    }
   ],
   "source": [
    "#Graficos la matriz de correlacion\n",
    "fig, ax = plt.subplots(figsize=(15,15))       \n",
    "sns.heatmap(df.corr() , square=True, annot=True, ax=ax);"
   ]
  },
  {
   "cell_type": "markdown",
   "metadata": {},
   "source": [
    "## Que tipo de propiedad tiene el mayor precio por metro cuadrado en dolares?"
   ]
  },
  {
   "cell_type": "code",
   "execution_count": 130,
   "metadata": {},
   "outputs": [
    {
     "data": {
      "image/png": "[encoded data removed]",
      "text/plain": [
       "<Figure size 1008x360 with 1 Axes>"
      ]
     },
     "metadata": {},
     "output_type": "display_data"
    }
   ],
   "source": [
    "#Armamos los datos para el grafico\n",
    "df_tipo_prop = df.groupby('Tipo_Propiedad').mean()['Precio_m2'].sort_values(ascending=False)[0:4]\n",
    "graf = df_tipo_prop.sort_values().plot.barh(figsize=(14,5),fontsize=15, color='r')\n",
    "graf.set_title(\"Precio(usd/m2) promedio segun el tipo de propiedad\", fontsize=10)\n",
    "graf.set_ylabel(\"Tipo de propiedad\", fontsize=18)\n",
    "graf.set_xlabel(\"USD/m2\", fontsize=18)\n",
    "plt.show()"
   ]
  },
  {
   "cell_type": "markdown",
   "metadata": {},
   "source": [
    "## Top 5 \"Provincias\" precio promedio del metro2 en dolares"
   ]
  },
  {
   "cell_type": "code",
   "execution_count": 131,
   "metadata": {},
   "outputs": [
    {
     "data": {
      "image/png": "[encoded data removed]",
      "text/plain": [
       "<Figure size 1008x360 with 1 Axes>"
      ]
     },
     "metadata": {},
     "output_type": "display_data"
    }
   ],
   "source": [
    "dfzone = df.groupby('Provincia').mean()['Precio_m2'].sort_values(ascending=True)[0:5]\n",
    "g = dfzone.sort_values().plot.barh(figsize=(14,5),color='g',fontsize=15, alpha=0.6);\n",
    "g.set_title(\"Precio(usd/m2) promedio segun la zona\", fontsize=20)\n",
    "g.set_ylabel(\"Provincia\", fontsize=18)\n",
    "g.set_xlabel(\"USD/m2\", fontsize=18)\n",
    "plt.show()"
   ]
  },
  {
   "cell_type": "markdown",
   "metadata": {},
   "source": [
    "## Definimos dos funciones para graficar los tops de Barrios mas baratos y caros por zona"
   ]
  },
  {
   "cell_type": "code",
   "execution_count": 132,
   "metadata": {},
   "outputs": [],
   "source": [
    "def ObtenerTop(df,agrupado, valor, cantidad, descendente):\n",
    "    return df.groupby([agrupado])[valor].mean().sort_values(ascending=descendente).head(cantidad)\n",
    "    \n",
    "def ArmarPlot(df,agrupado, valor, cantidad, descendente,color,titulo):\n",
    "    g = ObtenerTop(df,agrupado, valor, cantidad, descendente).sort_values().plot.barh(figsize=(15,5),color=color,fontsize=15)\n",
    "    g.set_title(titulo, fontsize=20)\n",
    "    g.set_ylabel(agrupado, fontsize=18)\n",
    "    g.set_xlabel(valor, fontsize=18)\n",
    "    plt.show()"
   ]
  },
  {
   "cell_type": "code",
   "execution_count": 133,
   "metadata": {},
   "outputs": [],
   "source": [
    "CapitalFederal = df.loc[df.Ubicacion_Completa.str.contains(\"Capital Federal\", na=False),:]\n",
    "GBA =df.loc[df.Ubicacion_Completa.str.contains(\"G.B.A\", na=False),:]\n",
    "dfBaires = pd.concat([CapitalFederal,GBA])"
   ]
  },
  {
   "cell_type": "code",
   "execution_count": 134,
   "metadata": {},
   "outputs": [
    {
     "data": {
      "image/png": "[encoded data removed]",
      "text/plain": [
       "<Figure size 1080x360 with 1 Axes>"
      ]
     },
     "metadata": {},
     "output_type": "display_data"
    },
    {
     "data": {
      "image/png": "[encoded data removed]",
      "text/plain": [
       "<Figure size 1080x360 with 1 Axes>"
      ]
     },
     "metadata": {},
     "output_type": "display_data"
    }
   ],
   "source": [
    "ArmarPlot(GBA,'Barrio', 'Precio_m2_Dls',5, True,'purple',\"Barrios Baratos GBA\")\n",
    "ArmarPlot(GBA,'Barrio', 'Precio_m2_Dls',5, False,'blue',\"Barrios Caros GBA\")"
   ]
  },
  {
   "cell_type": "code",
   "execution_count": 135,
   "metadata": {},
   "outputs": [
    {
     "data": {
      "image/png": "[encoded data removed]",
      "text/plain": [
       "<Figure size 1080x360 with 1 Axes>"
      ]
     },
     "metadata": {},
     "output_type": "display_data"
    },
    {
     "data": {
      "image/png": "[encoded data removed]",
      "text/plain": [
       "<Figure size 1080x360 with 1 Axes>"
      ]
     },
     "metadata": {},
     "output_type": "display_data"
    }
   ],
   "source": [
    "ArmarPlot(CapitalFederal,'Barrio', 'Precio_m2_Dls',5, True,'red',\"Barrios Baratos Capital Federal\")\n",
    "ArmarPlot(CapitalFederal,'Barrio', 'Precio_m2_Dls',5, False,'orange',\"Barrios Caros Capital Federal\")"
   ]
  }
 ],
 "metadata": {
  "kernelspec": {
   "display_name": "Python 3",
   "language": "python",
   "name": "python3"
  },
  "language_info": {
   "codemirror_mode": {
    "name": "ipython",
    "version": 3
   },
   "file_extension": ".py",
   "mimetype": "text/x-python",
   "name": "python",
   "nbconvert_exporter": "python",
   "pygments_lexer": "ipython3",
   "version": "3.6.5"
  }
 },
 "nbformat": 4,
 "nbformat_minor": 2
}
